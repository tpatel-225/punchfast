{
  "cells": [
    {
      "cell_type": "markdown",
      "metadata": {
        "id": "4EqH89kBN7F5"
      },
      "source": [
        "<a href=\"https://colab.research.google.com/github/gisalgs/notebooks/blob/main/centroid-area-3.ipynb\">\n",
        "  <img src=\"https://colab.research.google.com/assets/colab-badge.svg\" alt=\"Open In Colab\"/>\n",
        "</a>\n",
        "\n",
        "# Polygon Centroid and Area\n",
        "\n",
        "This is a combined version of some of the topics on polygons.\n",
        "\n",
        "We represent a polygon of $n$ points as $(x_1, y_1), (x_2, y_2),...,(x_n,y_n),(x_{n+1},y_{n+1})$, where we add an additional point in the sequence $(x_{n+1}, y_{n+1}) = (x_1,y_1)$ to ensure that the polygon is closed.\n",
        "\n",
        "## Polygon area\n",
        "\n",
        "A robust way to computing polygon area is to decompose the polygon into a set of **trapezoids**. Every line segment on the polygon boundary can form a trapezoid with the corresponding segment on the horizontal axis, as illustrated by the following figure:\n",
        "\n",
        "![](https://github.com/gisalgs/notebooks/blob/main/figures/polygon-area-trapezoids.png?raw=1)\n",
        "\n",
        "We first get the sum of areas of all trapezoids formed by the upper line segments of the polygon. We then subtract this sum of areas by the sum of areas of the trapezoids formed by the lower lines. The following equation can then be used to compute the **polygon area** after decomposing it into a series of trapezoids. Note the order the points in the sequence is important and this is why we take the absolute value here.\n",
        "\n",
        "$A = \\frac{1}{2} \\sum_{i=1}^n (x_{i+1} - x_i) (y_{i+1} + y_i) $\n",
        "\n",
        "Polygon areas can also be computed using the following cross-product form that can be derived using a triangulation procedure. We will just give this form here while more details can be found in an optional tutorial in this class. This is more convenient for calculation.\n",
        "\n",
        "$A = \\frac{1}{2} \\sum_{i=1}^n (x_i y_{i+1} - x_{i+1} y_i) $\n",
        "\n",
        "In the actual computation of areas, the result might be negative if the points are chained counterclockwise and we will need to take the absolute value of the result.\n",
        "\n",
        "## Polygon centroid\n",
        "\n",
        "The **centroid** of a polygon can be defined in various ways. However, it is common to think that the gravity center of the polygon is the centroid. If the boundaries of the polygon do not intersect, the centroid of the polygon is determined as\n",
        "\n",
        "$x = \\frac{1}{6A} \\sum_{i=1}^n (x_i + x_{i+1}) (x_i y_i - x_{i+1}y_i)$\n",
        "\n",
        "$y = \\frac{1}{6A} \\sum_{i=1}^n (y_i + y_{i+1}) (x_i y_i - x_{i+1}y_i)$\n",
        "\n",
        "where $A$ is the area of the polygon as calculated using the above formulas.\n",
        "\n",
        "There is a lot of similarity in calculating the centroid and the area of a polygon. This makes sense because we want the centroid to be close to the gravity center of the polygon. In other words, we weight the centroid by the areas. For this reason, we write one single function that does both.\n",
        "\n",
        "## Handling exceptions\n",
        "\n",
        "One important issue in the above algorithm is that we require the polygon to be closed. Otherwise, there will be errors. There are different ways to handle this. For example, we can simply return a `None` if the polygon is not closed. However, to make the code look more formal, we are going to tell Python that there is an error (in this way, we don't let errors go without being notified) and we want to stop running the code (because something important might just be dependent on the successful calculation of the area). This is what we call **to raise an error**. We will simply use a generic exception in Python to do this. In the following code, we will see the program stops after it prints 5 and then trows an exception:\n",
        "\n",
        "```python\n",
        "for i in range(10):\n",
        "    print(i, end=' ')\n",
        "    if i == 5:\n",
        "        raise Exception('Just a test')\n",
        "        \n",
        "print('DONE')\n",
        "```\n"
      ]
    },
    {
      "cell_type": "markdown",
      "metadata": {
        "id": "fbUQFNACN7F9"
      },
      "source": [
        "It appears that when the exception is raised, the program will stop. But we can catch the exception and process it before we decide if we need to end the program or not. (For most of the cases, since we have caught the exception, we probably should know how to handle it and therefore it makes no sense to stop the program unless it is really necessary.)"
      ]
    },
    {
      "cell_type": "code",
      "execution_count": 29,
      "metadata": {
        "id": "bzqMpKE1N7F9",
        "outputId": "67bb66b0-5444-4eb2-921d-00b3255ec4fe",
        "colab": {
          "base_uri": "https://localhost:8080/"
        }
      },
      "outputs": [
        {
          "output_type": "stream",
          "name": "stdout",
          "text": [
            "0 1 2 3 4 5 Just an error\n",
            "Not done yet!\n"
          ]
        }
      ],
      "source": [
        "try:\n",
        "    for i in range(10):\n",
        "        print(i, end=' ')\n",
        "        if i == 5:\n",
        "            raise Exception('Just an error')\n",
        "except Exception as err:\n",
        "    print(err)\n",
        "    print('Not done yet!')\n",
        "else:\n",
        "    print('DONE')"
      ]
    },
    {
      "cell_type": "markdown",
      "metadata": {
        "id": "OhCuj5oAN7F-"
      },
      "source": [
        "## Getting polygon centroid and area\n",
        "\n",
        "Now, we define a function called `centroid` that returns both area and centroid of a given polygon.\n",
        "\n",
        "```python\n",
        "def centroid(polygon):\n",
        "    if polygon[0] != polygon[-1]:\n",
        "        raise Exception('Polygon not closed')\n",
        "    num_point = len(polygon)\n",
        "    A = 0\n",
        "    xmean = 0\n",
        "    ymean = 0\n",
        "    for i in range(num_point-1):\n",
        "        p1 = polygon[i]\n",
        "        p2 = polygon[i+1]\n",
        "        ai = p1.x * p2.y - p2.x * p1.y\n",
        "        A += ai\n",
        "        xmean += (p2.x + p1.x) * ai\n",
        "        ymean += (p2.y + p1.y) * ai\n",
        "    A = A/2.0\n",
        "    C = Point(xmean/(6*A), ymean/(6*A))\n",
        "    return abs(A), C\n",
        "```\n",
        "\n",
        "### Using Jupyter Notebook and Colab\n",
        "\n",
        "The complete version of the above code is available from the github site at [here](https://github.com/gisalgs/geom/blob/master/centroid.py). The code is saved in a file called **centroid.py** and we will put it in the same folder of geom as the point.py file. (Note that the above code is simply listed here but not executed.) Now we can use the centroid algorithm in the following example.\n",
        "\n",
        "This tutorial will be run on-the-fly in Google Colab. Because of that, it is necessary to load our geometry Python modules (such as point.py). The following line of code clones exactly the entire repository into the running environment of his notebook. Please note this is only needed to run in colab. To run the code in the tutorial in our own local computer using a Python interactive mode, we will use what we did before (i.e., downloading the necessary .py files from the github repo, and putting them in the right folder). There is no need to run this in local Python environment. This line should not be included in a Python program either.\n",
        "\n"
      ]
    },
    {
      "cell_type": "code",
      "execution_count": 30,
      "metadata": {
        "id": "-FJSupnzN7F-",
        "outputId": "35208d8e-aa97-4dc6-cd57-2ce4572b6c29",
        "colab": {
          "base_uri": "https://localhost:8080/"
        }
      },
      "outputs": [
        {
          "output_type": "stream",
          "name": "stdout",
          "text": [
            "fatal: destination path 'geom' already exists and is not an empty directory.\n"
          ]
        }
      ],
      "source": [
        "!git clone https://github.com/gisalgs/geom.git"
      ]
    },
    {
      "cell_type": "markdown",
      "metadata": {
        "id": "Wcc2NMfFN7F_"
      },
      "source": [
        "The above line may show an error that the path exists already. This happens when it is run multiple times. No need to alert. If we are curious about where the module is actually installed, the following command in the notebook can tell us:\n",
        "\n",
        "```\n",
        "pwd\n",
        "```\n",
        "\n",
        "Or we can use Python to see the current folder:\n",
        "\n",
        "```python\n",
        "import os\n",
        "os.getcwd()\n",
        "```\n",
        "\n",
        "If the code in this tutorial is run in a local Python interactive mode, we can use the following before we import:\n",
        "\n",
        "```python\n",
        "import sys\n",
        "sys.path.append('/home/xiao/lib/gisalgs')\n",
        "```\n",
        "\n",
        "Once the github repo is cloned, it is also loaded and ready to use."
      ]
    },
    {
      "cell_type": "code",
      "execution_count": 31,
      "metadata": {
        "id": "-vm9dtdzN7F_"
      },
      "outputs": [],
      "source": [
        "from geom.point import *\n",
        "from geom.centroid import *"
      ]
    },
    {
      "cell_type": "code",
      "execution_count": 32,
      "metadata": {
        "id": "9cEKdRNxN7F_",
        "outputId": "c068f97f-9bb1-406c-a1fd-f6e85bace0fe",
        "colab": {
          "base_uri": "https://localhost:8080/"
        }
      },
      "outputs": [
        {
          "output_type": "stream",
          "name": "stdout",
          "text": [
            "The area is 8.75 and centroid is at (3.0, 3.1)\n",
            "The area is 8.75 and centroid is at (3.0, 3.1)\n",
            "Polygon not closed\n"
          ]
        }
      ],
      "source": [
        "points = [ [1,1], [4,3], [8,3], [8,3.5], [4,3.5], [1,5], [1,1] ]\n",
        "points = [Point(p[0], p[1]) for p in points]\n",
        "\n",
        "result = centroid(points)\n",
        "print('The area is %s and centroid is at %s'%(result[0], result[1]))\n",
        "\n",
        "points.reverse()\n",
        "points = [Point(p[0], p[1]) for p in points]\n",
        "\n",
        "result = centroid(points)\n",
        "print('The area is %s and centroid is at %s'%(result[0], result[1]))\n",
        "\n",
        "try:\n",
        "    result = centroid(points[:-2])\n",
        "except Exception as err:\n",
        "    print(err)\n",
        "else:\n",
        "    print(result)"
      ]
    },
    {
      "cell_type": "markdown",
      "metadata": {
        "id": "1qB2YUkhN7GA"
      },
      "source": [
        "## Case study: Centroids\n",
        "\n",
        "Why the centroid formula looks like what is presented before? Why not we just calculate the mean values of the X and Y coordinates of the points of the polygon? Here we will use an example to demonstrate this. (Again, the first line of code is not needed for Python interpreter other than the iPython notebook.)"
      ]
    },
    {
      "cell_type": "code",
      "execution_count": 33,
      "metadata": {
        "id": "jOtfCgc1N7GA"
      },
      "outputs": [],
      "source": [
        "%matplotlib inline\n",
        "import matplotlib.pyplot as plt"
      ]
    },
    {
      "cell_type": "code",
      "execution_count": 34,
      "metadata": {
        "id": "OVrvuVLYN7GA",
        "outputId": "39c44d96-b10c-467c-ddb1-08e35a30baf4",
        "colab": {
          "base_uri": "https://localhost:8080/",
          "height": 370
        }
      },
      "outputs": [
        {
          "output_type": "display_data",
          "data": {
            "text/plain": [
              "<Figure size 640x480 with 1 Axes>"
            ],
            "image/png": "[encoded data removed]"
          },
          "metadata": {}
        }
      ],
      "source": [
        "points = [ [1,1], [2,1], [4,3], [8,3], [8,3.5], [4,3.5], [1,4.5], [1,1] ]\n",
        "\n",
        "polygon = [ Point(p[0], p[1]) for p in points ]\n",
        "\n",
        "# TODO: compute the mean of the X coordinates in polygon as x\n",
        "#       make sure the point at (1, 1) is only used once\n",
        "x_org = polygon[0].x\n",
        "\n",
        "sum_x = x_org  # sum of x\n",
        "for t in range (len (polygon)):\n",
        "  if polygon[t].x != x_org:\n",
        "    sum_x += polygon[t].x\n",
        "\n",
        "\n",
        "x = sum_x / len(polygon) # Calculation\n",
        "\n",
        "y_org = polygon[0].y\n",
        "sum_y = y_org # sum of y\n",
        "for i in range (len (polygon)):\n",
        "  if polygon[i].y != y_org:\n",
        "    sum_y / len (polygon)\n",
        "\n",
        "\n",
        "# TODO: compute the mean of the Y coordinates in polygon as y\n",
        "#       make sure the point at (1, 1) is only used once\n",
        "y = sum_y / len (polygon) # Final calculation for y\n",
        "\n",
        "d = Point(x, y)\n",
        "\n",
        "_, ax = plt.subplots()\n",
        "\n",
        "line1 = [ [p.x, p.y] for p in polygon ]\n",
        "l1 = plt.Polygon(line1, closed=True, fill=True, facecolor='grey', edgecolor='blue', alpha=0.5)\n",
        "ax.add_patch(l1)\n",
        "\n",
        "ax.scatter([p.x for p in polygon], [p.y for p in polygon], color='grey', marker='o', alpha=0.8)\n",
        "\n",
        "ax.plot(d.x, d.y, marker='o', color='red', alpha=.9)\n",
        "ax.text(d.x+0.1, d.y-0.2, 'mean')\n",
        "\n",
        "ax.set_aspect(1)\n",
        "\n",
        "plt.show()\n"
      ]
    },
    {
      "cell_type": "code",
      "execution_count": 35,
      "metadata": {
        "id": "l25evGM0N7GB",
        "outputId": "063a4a4e-1d31-4b71-85c1-534a75c11c92",
        "colab": {
          "base_uri": "https://localhost:8080/"
        }
      },
      "outputs": [
        {
          "output_type": "execute_result",
          "data": {
            "text/plain": [
              "[3.375, 0.125]"
            ]
          },
          "metadata": {},
          "execution_count": 35
        }
      ],
      "source": [
        "d"
      ]
    },
    {
      "cell_type": "code",
      "execution_count": 36,
      "metadata": {
        "id": "fs7YcaeoN7GB",
        "outputId": "f5b072c6-1929-46d7-ae7e-fe5489e2ac8c",
        "colab": {
          "base_uri": "https://localhost:8080/",
          "height": 308
        }
      },
      "outputs": [
        {
          "output_type": "display_data",
          "data": {
            "text/plain": [
              "<Figure size 640x480 with 1 Axes>"
            ],
            "image/png": "[encoded data removed]"
          },
          "metadata": {}
        }
      ],
      "source": [
        "_, ax = plt.subplots()\n",
        "\n",
        "line1 = [ [p.x, p.y] for p in polygon ]\n",
        "l1 = plt.Polygon(line1, closed=True, fill=True, facecolor='grey', edgecolor='blue', alpha=0.5)\n",
        "ax.add_patch(l1)\n",
        "\n",
        "# TODO: what would be the coordinates for a centroid that is more preferred?\n",
        "#       use any reasonable numbers below\n",
        "preferred = Point(3.0,2.8)\n",
        "\n",
        "\n",
        "ax.plot(preferred.x, preferred.y, color='blue', marker='o', alpha=.9)\n",
        "plt.text(preferred.x-0.1, preferred.y+0.1, 'preferred', ha='right')\n",
        "\n",
        "\n",
        "ax.set_aspect(1)\n",
        "plt.show()\n"
      ]
    },
    {
      "cell_type": "markdown",
      "metadata": {
        "id": "cI5F6rfBN7GB"
      },
      "source": [
        "Now we put both the average point (mean) and the centroid (gravity center) together."
      ]
    },
    {
      "cell_type": "code",
      "execution_count": 37,
      "metadata": {
        "colab": {
          "base_uri": "https://localhost:8080/",
          "height": 370
        },
        "id": "1oCrj1buN7GB",
        "outputId": "ad2cdebb-a5fb-418a-bb41-5ca503c12894"
      },
      "outputs": [
        {
          "output_type": "display_data",
          "data": {
            "text/plain": [
              "<Figure size 640x480 with 1 Axes>"
            ],
            "image/png": "[encoded data removed]"
          },
          "metadata": {}
        }
      ],
      "source": [
        "points = [ [1,1], [2,1], [4,3], [8,3], [8,3.5], [4,3.5], [1,4.5], [1,1] ]\n",
        "\n",
        "polygon = [ Point(p[0], p[1]) for p in points ]\n",
        "\n",
        "# TODO: compute the mean of the X coordinates in polygon as x\n",
        "#       make sure the point at (1, 1) is only used once\n",
        "x_org = polygon[0].x\n",
        "\n",
        "sum_x = x_org  # sum of x\n",
        "for t in range (len (polygon)):\n",
        "  if polygon[t].x != x_org:\n",
        "    sum_x += polygon[t].x\n",
        "x = sum_x / len (polygon)\n",
        "# TODO: compute the mean of the Y coordinates in polygon as y\n",
        "#       make sure the point at (1, 1) is only used once\n",
        "\n",
        "y_org = polygon[0].y\n",
        "sum_y = y_org # sum of y\n",
        "for i in range (len (polygon)):\n",
        "  if polygon[i].y != y_org:\n",
        "    sum_y / len (polygon)\n",
        "\n",
        "y = sum_y / len (polygon) # Final calculation for y\n",
        "\n",
        "_, ax = plt.subplots()\n",
        "\n",
        "line1 = [ [p.x, p.y] for p in polygon ]\n",
        "l1 = plt.Polygon(line1, closed=True, fill=True, facecolor='grey', edgecolor='blue', alpha=0.5)\n",
        "ax.add_patch(l1)\n",
        "\n",
        "ax.scatter([p.x for p in polygon], [p.y for p in polygon], color='grey', marker='o', alpha=0.8)\n",
        "\n",
        "# TODO:\n",
        "#       calculate the centroid of the polygon\n",
        "#       plot it here\n",
        "#       draw a label next to the centroid\n",
        "#\n",
        "\n",
        "# centroid of polygon\n",
        "area_p, centroid_p = centroid(polygon)\n",
        "\n",
        "# plotting it\n",
        "plt.scatter(centroid_p.x, centroid_p.y, color = \"blue\", alpha = 0.7)\n",
        "\n",
        "plt.text(centroid_p.x, centroid_p.y, \"Centroid\")\n",
        "\n",
        "d = Point(x, y)\n",
        "plt.scatter([d.x], [d.y], color='red', alpha=.9)\n",
        "plt.text(d.x+0.1, d.y-0.2, 'mean')\n",
        "\n",
        "ax.set_aspect(1)\n",
        "plt.show()\n"
      ]
    },
    {
      "cell_type": "markdown",
      "metadata": {
        "id": "maA6vYxVN7GB"
      },
      "source": [
        "The centroid (gravity center) can still be outside the polygon (see questions below). This can be a problem when we really want it to be inside. [Here](https://www.mapbox.com/blog/polygon-center/) is a method to get the visual center of a polygon that is bound to be inside the polygon."
      ]
    },
    {
      "cell_type": "code",
      "execution_count": 38,
      "metadata": {
        "id": "dXiI8v3bN7GB",
        "outputId": "ebe31e0a-bc86-4cee-ed69-af7ba6d5e138",
        "colab": {
          "base_uri": "https://localhost:8080/",
          "height": 430
        }
      },
      "outputs": [
        {
          "output_type": "display_data",
          "data": {
            "text/plain": [
              "<Figure size 640x480 with 1 Axes>"
            ],
            "image/png": "[encoded data removed]"
          },
          "metadata": {}
        }
      ],
      "source": [
        "# TODO: design a polygon so that its centroid is outside the polygon\n",
        "#       In other words, complete the following line to give specific coordinates to points.\n",
        "points = [ [1,2], [1,4.5], [3,5], [5,6.5], [4,3.5], [2,2], [1.5,2.2], [1,2]]\n",
        "\n",
        "polygon = [ Point(p[0], p[1]) for p in points ]\n",
        "\n",
        "_, ax = plt.subplots()\n",
        "\n",
        "line1 = [ [p.x, p.y] for p in polygon ]\n",
        "l1 = plt.Polygon(line1, closed=True, fill=True, facecolor='grey', edgecolor='blue', alpha=0.5)\n",
        "ax.add_patch(l1)\n",
        "\n",
        "ax.scatter([p.x for p in polygon], [p.y for p in polygon], color='grey', marker='o', alpha=0.8)\n",
        "\n",
        "# TODO: calculate the centroid of the polygon and plot it here\n",
        "\n",
        "area_p, centroid_p = centroid(polygon)\n",
        "plt.scatter(centroid_p.x, centroid_p.y, color = \"green\", alpha = 0.7)\n",
        "plt.text (centroid_p.x, centroid_p.y, \"Centroid\")\n",
        "\n",
        "ax.set_aspect(1)\n",
        "plt.show()\n"
      ]
    }
  ],
  "metadata": {
    "kernelspec": {
      "display_name": "Python 3 (ipykernel)",
      "language": "python",
      "name": "python3"
    },
    "language_info": {
      "codemirror_mode": {
        "name": "ipython",
        "version": 3
      },
      "file_extension": ".py",
      "mimetype": "text/x-python",
      "name": "python",
      "nbconvert_exporter": "python",
      "pygments_lexer": "ipython3",
      "version": "3.9.7"
    },
    "colab": {
      "provenance": []
    }
  },
  "nbformat": 4,
  "nbformat_minor": 0
}